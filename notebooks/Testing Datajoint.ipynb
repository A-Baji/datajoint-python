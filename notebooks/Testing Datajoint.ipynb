{
 "metadata": {
  "name": "",
  "signature": "sha256:a9c47b3546a08cb61662c44838441da74e49aadac9b400b24b6cea550265d496"
 },
 "nbformat": 3,
 "nbformat_minor": 0,
 "worksheets": [
  {
   "cells": [
    {
     "cell_type": "code",
     "collapsed": false,
     "input": [
      "import re, collections\n",
      "from conn import conn as djconn\n",
      "from core import DataJointError\n",
      "import networkx as nx\n",
      "import matplotlib.pyplot as plt\n",
      "\n",
      "# table tiers are encoded by naming convention as follows:\n",
      "tableTiers = {\n",
      "    '':'manual',      # manual tables have no prefix\n",
      "    '#':'lookup',     # lookup tables start with a #\n",
      "    '_':'imported',   # imported tables start with _\n",
      "    '__':'computed'   # computed tables start with __\n",
      "}\n",
      "\n",
      "# regular expression to match valid table names\n",
      "tierRe = re.compile('^(|#|_|__)[a-z]\\w+$')\n",
      "\n",
      "\n",
      "HeaderEntry = collections.namedtuple('HeaderEntry',\n",
      "    ('isKey','type','isNullable','comment','default','isNumeric','isString','isBlob','alias'))\n",
      "\n",
      "class Header(object):\n",
      "    def initFromDatabase(schema, tableInfo):\n",
      "        obj = Header()\n",
      "        obj.info = tableInfo\n",
      "        cur = schema.conn.queryd('''\n",
      "        SHOW FULL COLUMNS FROM `{table}` in `{schema}`\n",
      "        '''.format(table=tableInfo['Name'], schema.dbname))\n",
      "        attrs = cur.fetchall() # list of dict\n",
      "        \n",
      "    \n",
      "    @property\n",
      "    def attrList(self):\n",
      "        \"\"\"\n",
      "        make an SQL list of attributes for header, expanding field aliases.\n",
      "        \"\"\"\n",
      "        assert self\n",
      "        return ','.join([\"(%s) as `%s`\" % (v.alias, k) if v.alias else \"`%s`\" % k for k,v in self.items()])\n",
      "\n",
      "    def clearAliases(self):\n",
      "        \"\"\"\n",
      "        remove aliases from attributes\n",
      "        \"\"\"\n",
      "        for k,v in self.items():\n",
      "            if v.alias:\n",
      "                self[k] = v._replace(alias=None)\n",
      "\n",
      "    def pro(self, attrs):\n",
      "        \"\"\"\n",
      "        project header onto a list of attributes.\n",
      "        Alway include primary keys.\n",
      "        \"\"\"\n",
      "        if '*' in attrs:\n",
      "            ret = Header(self)\n",
      "        else:\n",
      "            ret = Header({k:v for k,v in self.items() if k in attrs or v.isKey})\n",
      "        # TODO: add computed and renamed attributes\n",
      "        return ret\n",
      "    "
     ],
     "language": "python",
     "metadata": {},
     "outputs": [],
     "prompt_number": 15
    },
    {
     "cell_type": "code",
     "collapsed": false,
     "input": [
      " \n",
      "class Schema(object):\n",
      "    \"\"\"\n",
      "    datajoint.Schema objects link a python module (package) with a database schema\n",
      "    \"\"\"\n",
      "    conn = None\n",
      "    package = None\n",
      "    dbname = None\n",
      "\n",
      "\n",
      "    def __init__(self, package=package, dbname=dbname, conn=None):\n",
      "        if conn is None:\n",
      "            conn = djconn()\n",
      "        self.conn = conn\n",
      "        conn.packages[dbname] = package\n",
      "        self.package = package \n",
      "        self.dbname = dbname\n",
      "        self.reload()    # TODO: consider delayed loading\n",
      "\n",
      "\n",
      "    def __repr__(self):\n",
      "        ret = 'datajoint.Schema \"{package}\" -> \"{dbname}\" at {host}:{port}\\n {tableList}\\n ({nTables} tables)'.format(\n",
      "            package=self.package, dbname=self.dbname,\n",
      "            tableList = '\\n'.join(self.tables.keys()),\n",
      "            nTables=len(self.tables), **self.conn.connInfo)\n",
      "        return ret\n",
      "\n",
      "\n",
      "\n",
      "    def reload(self):\n",
      "        \"\"\"\n",
      "        load table definitions and dependencies   \n",
      "        \"\"\"\n",
      "\n",
      "        print 'Loading table dependencies...'\n",
      "        cur = self.conn.query('''\n",
      "        SELECT DISTINCT table_schema, table_name, referenced_table_schema, referenced_table_name\n",
      "            FROM information_schema.key_column_usage\n",
      "            WHERE table_schema=\"{schema}\" AND referenced_table_name is not NULL\n",
      "            OR referenced_table_schema=\"{schema}\"\n",
      "        '''.format(schema=self.dbname))\n",
      "        deps = cur.fetchall()\n",
      "        allTables = tuple({(str(a[0]),str(a[1])) for a in deps if tierRe.match(a[1])}.union(\n",
      "            {(str(a[2]),str(a[3])) for a in deps if tierRe.match(a[1])}))\n",
      "\n",
      "        print 'Loading table info...'\n",
      "        cur = self.conn.query('''\n",
      "            SELECT table_schema, table_name, table_comment\n",
      "            FROM information_schema.tables WHERE (table_schema, table_name) in {allTables}\n",
      "            '''.format(allTables=allTables))\n",
      "\n",
      "        TableTuple = collections.namedtuple('TableTuple',\n",
      "            ('name','comment','tier','header','parents','children'))\n",
      "\n",
      "        self.tables = collections.OrderedDict()\n",
      "        for s in cur.fetchall():\n",
      "            self.tables[self.conn.makeClassName(s[0],s[1])] = TableTuple(\n",
      "                name = s[1],\n",
      "                comment = s[2].split('$')[0],\n",
      "                tier = tableTiers[tierRe.match(s[1]).group(1)],\n",
      "                header = Header(),\n",
      "                parents = [],\n",
      "                children = [])\n",
      "\n",
      "        # construct the dependencies\n",
      "        for s in deps:\n",
      "            self.tables[self.conn.makeClassName(s[0],s[1])].parents.append(\n",
      "                self.conn.makeClassName(s[2], s[3]))\n",
      "            self.tables[self.conn.makeClassName(s[2],s[3])].children.append(\n",
      "                self.conn.makeClassName(s[0], s[1]))\n",
      "\n",
      "        self.graph = nx.DiGraph()\n",
      "        for k,v in self.tables.iteritems():\n",
      "            for child in v.children:\n",
      "                self.graph.add_edge(k,child)\n",
      "\n",
      "        print 'Loading column info...'\n",
      "        cur = self.conn.query('''\n",
      "            SELECT table_schema, table_name, column_name, (column_key=\"PRI\") AS `iskey`,\n",
      "                column_type, (is_nullable=\"YES\") AS isnullable,\n",
      "                column_comment, column_default\n",
      "            FROM information_schema.columns\n",
      "            WHERE (table_schema, table_name) in {allTables}\n",
      "            '''.format(allTables=allTables))\n",
      "\n",
      "        for s in cur.fetchall():\n",
      "            tup = HeaderEntry(\n",
      "                isKey = s[3]!=0,\n",
      "                type = s[4],\n",
      "                isNullable = s[5]!=0,\n",
      "                comment = s[6],\n",
      "                default = s[7],\n",
      "                isNumeric = None != re.match('^((tiny|small|medium|big)?int|decimal|double|float)', s[4]),\n",
      "                isString = None != re.match('^((var)?char|enum|date|timestamp)', s[4]),\n",
      "                isBlob = None != re.match('^(tiny|medium|long)?blob', s[4]),\n",
      "                alias = None\n",
      "            )\n",
      "            # check for unsupported datatypes\n",
      "            if not (tup.isNumeric or tup.isString or tup.isBlob):\n",
      "                raise DataJointError('Unsupported DataJoint datatype ' + tup.type)\n",
      "            self.tables[self.conn.makeClassName(s[0],s[1])].header[s[2]] = tup\n",
      "\n",
      "\n",
      "\n",
      "    def erd(self, subset=None, prog='dot'):\n",
      "        \"\"\"\n",
      "        plot the schema's entity relationship diagram (ERD).\n",
      "        The layout programs can be 'dot' (default), 'neato', 'fdp', 'sfdp', 'circo', 'twopi'\n",
      "        \"\"\"\n",
      "        if not subset:\n",
      "            g = self.graph\n",
      "        else:\n",
      "            g = self.graph.copy()\n",
      "            for i in g.nodes():\n",
      "                if i not in subset:\n",
      "                    g.remove_node(i)\n",
      "\n",
      "        def tableList(tier):\n",
      "            return [i for i in g if self.tables[i].tier==tier]\n",
      "\n",
      "        pos=nx.graphviz_layout(g,prog=prog,args='')\n",
      "        plt.figure(figsize=(8,8))\n",
      "        nx.draw_networkx_edges(g, pos, alpha=0.3)\n",
      "        nx.draw_networkx_nodes(g, pos, nodelist=tableList('manual'),\n",
      "                               node_color='g', node_size=200, alpha=0.3)\n",
      "        nx.draw_networkx_nodes(g, pos, nodelist=tableList('computed'),\n",
      "                               node_color='r', node_size=200, alpha=0.3)\n",
      "        nx.draw_networkx_nodes(g, pos, nodelist=tableList('imported'),\n",
      "                               node_color='b', node_size=200, alpha=0.3)\n",
      "        nx.draw_networkx_nodes(g, pos, nodelist=tableList('lookup'),\n",
      "                               node_color='gray', node_size=120, alpha=0.3)\n",
      "        nx.draw_networkx_labels(g, pos, nodelist = subset, font_weight='bold', font_size=9)\n",
      "        nx.draw(g,pos,alpha=0,with_labels=False)\n",
      "        plt.show()\n"
     ],
     "language": "python",
     "metadata": {},
     "outputs": [],
     "prompt_number": 16
    },
    {
     "cell_type": "code",
     "collapsed": false,
     "input": [
      "ls"
     ],
     "language": "python",
     "metadata": {},
     "outputs": [
      {
       "output_type": "stream",
       "stream": "stdout",
       "text": [
        "README.md  \u001b[34mdatajoint\u001b[m\u001b[m/ \u001b[34mnotebooks\u001b[m\u001b[m/ setup.py\r\n"
       ]
      }
     ],
     "prompt_number": 4
    },
    {
     "cell_type": "code",
     "collapsed": false,
     "input": [
      "import pymysql as sql"
     ],
     "language": "python",
     "metadata": {},
     "outputs": [],
     "prompt_number": 17
    },
    {
     "cell_type": "code",
     "collapsed": false,
     "input": [
      "conn = sql.connect(host='kaguya',user='eywalker',passwd='edgar#1')"
     ],
     "language": "python",
     "metadata": {},
     "outputs": [],
     "prompt_number": 18
    },
    {
     "cell_type": "code",
     "collapsed": false,
     "input": [
      "conn.ping()"
     ],
     "language": "python",
     "metadata": {},
     "outputs": [
      {
       "metadata": {},
       "output_type": "pyout",
       "prompt_number": 19,
       "text": [
        "True"
       ]
      }
     ],
     "prompt_number": 19
    },
    {
     "cell_type": "code",
     "collapsed": false,
     "input": [
      "cur = conn.cursor(sql.cursors.DictCursor)"
     ],
     "language": "python",
     "metadata": {},
     "outputs": [],
     "prompt_number": 20
    },
    {
     "cell_type": "code",
     "collapsed": false,
     "input": [
      "cur.execute('''\n",
      "        SHOW FULL COLUMNS FROM `{table}` in `{schema}`\n",
      "        '''.format(table='pets',schema='eywalker_test'))"
     ],
     "language": "python",
     "metadata": {},
     "outputs": [
      {
       "metadata": {},
       "output_type": "pyout",
       "prompt_number": 27,
       "text": [
        "2"
       ]
      }
     ],
     "prompt_number": 27
    },
    {
     "cell_type": "code",
     "collapsed": false,
     "input": [
      "res=cur.fetchall()"
     ],
     "language": "python",
     "metadata": {},
     "outputs": [],
     "prompt_number": 28
    },
    {
     "cell_type": "code",
     "collapsed": false,
     "input": [
      "fieldMap = {\n",
      "'Field':'name',\n",
      "'Type':'type',\n",
      "'Null':'isnullable',\n",
      "'Default':'default',\n",
      "'Key':'iskey',\n",
      "'Comment':'comment',\n",
      "'Extra':'extra'\n",
      "}"
     ],
     "language": "python",
     "metadata": {},
     "outputs": [],
     "prompt_number": 97
    },
    {
     "cell_type": "code",
     "collapsed": false,
     "input": [
      "a = [dict((fieldMap[k],v) for k,v in r.iteritems() if k in fieldMap) for r in res]"
     ],
     "language": "python",
     "metadata": {},
     "outputs": [],
     "prompt_number": 112
    },
    {
     "cell_type": "code",
     "collapsed": false,
     "input": [
      "a[0]['extra'] = 'auTO_increment'"
     ],
     "language": "python",
     "metadata": {},
     "outputs": [],
     "prompt_number": 113
    },
    {
     "cell_type": "code",
     "collapsed": false,
     "input": [
      "a"
     ],
     "language": "python",
     "metadata": {},
     "outputs": [
      {
       "metadata": {},
       "output_type": "pyout",
       "prompt_number": 116,
       "text": [
        "[{'alias': '',\n",
        "  'auto_increment': True,\n",
        "  'comment': '',\n",
        "  'default': None,\n",
        "  'isBlob': False,\n",
        "  'isNumeric': False,\n",
        "  'isString': True,\n",
        "  'iskey': False,\n",
        "  'isnullable': True,\n",
        "  'name': 'name',\n",
        "  'type': 'varchar(20)',\n",
        "  'validFields': True},\n",
        " {'alias': '',\n",
        "  'auto_increment': False,\n",
        "  'comment': '',\n",
        "  'default': None,\n",
        "  'isBlob': False,\n",
        "  'isNumeric': True,\n",
        "  'isString': False,\n",
        "  'iskey': False,\n",
        "  'isnullable': True,\n",
        "  'name': 'age',\n",
        "  'type': 'int',\n",
        "  'validFields': True}]"
       ]
      }
     ],
     "prompt_number": 116
    },
    {
     "cell_type": "code",
     "collapsed": false,
     "input": [
      "import collections"
     ],
     "language": "python",
     "metadata": {},
     "outputs": [],
     "prompt_number": 115
    },
    {
     "cell_type": "code",
     "collapsed": false,
     "input": [
      "header = collections.namedtuple('Header',['alias','auto_increment','comment','default','isBlob','isNumeric','isString','iskey', 'isnullable','name','type','validFields'])\n"
     ],
     "language": "python",
     "metadata": {},
     "outputs": [],
     "prompt_number": 120
    },
    {
     "cell_type": "code",
     "collapsed": false,
     "input": [
      "h1 = header(**a[0])"
     ],
     "language": "python",
     "metadata": {},
     "outputs": [],
     "prompt_number": 121
    },
    {
     "cell_type": "code",
     "collapsed": false,
     "input": [
      "h1"
     ],
     "language": "python",
     "metadata": {},
     "outputs": [
      {
       "metadata": {},
       "output_type": "pyout",
       "prompt_number": 122,
       "text": [
        "Header(alias='', auto_increment=True, comment='', default=None, isBlob=False, isNumeric=False, isString=True, iskey=False, isnullable=True, name='name', type='varchar(20)', validFields=True)"
       ]
      }
     ],
     "prompt_number": 122
    },
    {
     "cell_type": "code",
     "collapsed": false,
     "input": [],
     "language": "python",
     "metadata": {},
     "outputs": []
    },
    {
     "cell_type": "code",
     "collapsed": false,
     "input": [
      "for x in a:\n",
      "    x['iskey'] = x['iskey']=='PRI'\n",
      "    x['isnullable'] = x['isnullable'] == 'YES'\n",
      "    x['auto_increment'] = bool(re.search('auto_increment',x['extra'],flags=re.IGNORECASE))\n",
      "    x['isNumeric'] = bool(re.match(r'^((tiny|small|medium|big)?int|decimal|double|float)',x['type']))\n",
      "    x['isString'] = bool(re.match(r'^((var)?char|enum|date|time|timestamp)', x['type']))\n",
      "    x['isBlob'] = bool(re.match(r'^(tiny|small|long)?blob', x['type']))\n",
      "    x['type'] = re.sub(r'((tiny|small|medium|big)?int)\\(\\d+\\)',r'\\1',x['type'])\n",
      "    x['alias'] = '' # not sure what this field is for\n",
      "    x['validFields'] = x['isNumeric'] or x['isString'] or x['isBlob']\n",
      "    x.pop('extra')\n",
      "    # put in error handling for unsupported field types\n",
      "    \n",
      "print a"
     ],
     "language": "python",
     "metadata": {},
     "outputs": [
      {
       "output_type": "stream",
       "stream": "stdout",
       "text": [
        "[{'comment': '', 'isString': True, 'name': 'name', 'default': None, 'auto_increment': True, 'validFields': True, 'iskey': False, 'alias': '', 'isNumeric': False, 'type': 'varchar(20)', 'isnullable': True, 'isBlob': False}, {'comment': '', 'isString': False, 'name': 'age', 'default': None, 'auto_increment': False, 'validFields': True, 'iskey': False, 'alias': '', 'isNumeric': True, 'type': 'int', 'isnullable': True, 'isBlob': False}]\n"
       ]
      }
     ],
     "prompt_number": 114
    },
    {
     "cell_type": "code",
     "collapsed": false,
     "input": [
      "x"
     ],
     "language": "python",
     "metadata": {},
     "outputs": []
    },
    {
     "cell_type": "code",
     "collapsed": false,
     "input": [
      "re.sub()"
     ],
     "language": "python",
     "metadata": {},
     "outputs": [],
     "prompt_number": 79
    },
    {
     "cell_type": "code",
     "collapsed": false,
     "input": [],
     "language": "python",
     "metadata": {},
     "outputs": []
    }
   ],
   "metadata": {}
  }
 ]
}