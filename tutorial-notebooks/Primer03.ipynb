{
 "cells": [
  {
   "cell_type": "markdown",
   "metadata": {},
   "source": [
    "[Prev](Primer02.ipynb)\n",
    "\n",
    "DataJoint Primer. Section 3.\n",
    "# Dependencies"
   ]
  },
  {
   "cell_type": "code",
   "execution_count": 2,
   "metadata": {
    "collapsed": false
   },
   "outputs": [
    {
     "name": "stdout",
     "output_type": "stream",
     "text": [
      "DataJoint 0.2.1 (June 1, 2016)\n",
      "Loading local settings from /Users/dimitri/.datajoint_config.json\n"
     ]
    }
   ],
   "source": [
    "import datajoint as dj"
   ]
  },
  {
   "cell_type": "code",
   "execution_count": 3,
   "metadata": {
    "collapsed": false
   },
   "outputs": [],
   "source": [
    "schema = dj.schema('dimitri_experiment', locals())\n",
    "\n",
    "@schema\n",
    "class Subject(dj.Manual):\n",
    "    definition = \"\"\"\n",
    "    # Basic subject info\n",
    "    subject_id       : int     # internal subject id\n",
    "    ---\n",
    "    real_id                     :  varchar(40)    #  real-world name\n",
    "    species = \"mouse\"           : enum('mouse', 'monkey', 'human')   # species\n",
    "    date_of_birth=null          : date                          # animal's date of birth\n",
    "    sex=\"unknown\"               : enum('M','F','unknown')       #\n",
    "    caretaker=\"Unknown\"         : varchar(20)                   # person responsible for working with this subject\n",
    "    animal_notes=\"\"             : varchar(4096)                 # strain, genetic manipulations, etc\n",
    "    \"\"\"\n",
    "\n",
    "\n",
    "@schema\n",
    "class Experiment(dj.Manual):\n",
    "    definition = \"\"\"\n",
    "    # Basic subject info\n",
    "\n",
    "    -> Subject\n",
    "    experiment          : smallint   # experiment number for this subject\n",
    "    ---\n",
    "    experiment_folder               : varchar(255) # folder path\n",
    "    experiment_date                 : date        # experiment start date\n",
    "    experiment_notes=\"\"             : varchar(4096)\n",
    "    experiment_ts=CURRENT_TIMESTAMP : timestamp   # automatic timestamp\n",
    "    \"\"\"\n",
    "\n",
    "\n",
    "@schema\n",
    "class Session(dj.Manual):\n",
    "    definition = \"\"\"\n",
    "    # a two-photon imaging session\n",
    "\n",
    "    -> Experiment\n",
    "    session_id    : tinyint  # two-photon session within this experiment\n",
    "    -----------\n",
    "    setup      : tinyint   # experimental setup\n",
    "    lens       : tinyint   # lens e.g.: 10x, 20x, 25x, 60x\n",
    "    \"\"\"\n",
    "\n",
    "\n",
    "@schema\n",
    "class Scan(dj.Manual):\n",
    "    definition = \"\"\"\n",
    "    # a two-photon imaging session\n",
    "\n",
    "    -> Session\n",
    "    scan_id : tinyint  # two-photon session within this experiment\n",
    "    ----\n",
    "    depth  :   float    #  depth from surface\n",
    "    wavelength : smallint  # (nm)  laser wavelength\n",
    "    mwatts: numeric(4,1)  # (mW) laser power to brain\n",
    "    \"\"\""
   ]
  },
  {
   "cell_type": "code",
   "execution_count": 5,
   "metadata": {
    "collapsed": false
   },
   "outputs": [],
   "source": [
    "dj.ERD(schema).draw()"
   ]
  },
  {
   "cell_type": "markdown",
   "metadata": {},
   "source": [
    "[Next](Primer04.ipynb)"
   ]
  }
 ],
 "metadata": {
  "kernelspec": {
   "display_name": "Python 3",
   "language": "python",
   "name": "python3"
  },
  "language_info": {
   "codemirror_mode": {
    "name": "ipython",
    "version": 3
   },
   "file_extension": ".py",
   "mimetype": "text/x-python",
   "name": "python",
   "nbconvert_exporter": "python",
   "pygments_lexer": "ipython3",
   "version": "3.5.0"
  }
 },
 "nbformat": 4,
 "nbformat_minor": 0
}
