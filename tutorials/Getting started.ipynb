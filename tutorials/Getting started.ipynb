{
 "metadata": {
  "name": ""
 },
 "nbformat": 3,
 "nbformat_minor": 0,
 "worksheets": [
  {
   "cells": [
    {
     "cell_type": "heading",
     "level": 1,
     "metadata": {},
     "source": [
      "Create a database object"
     ]
    },
    {
     "cell_type": "markdown",
     "metadata": {},
     "source": [
      "First, import datajoint, set environmental variables and define the database. The definition of the database is usually done in another file. \n",
      "\n",
      "This tests some latex $x \\mapsto y$."
     ]
    },
    {
     "cell_type": "code",
     "collapsed": false,
     "input": [
      "from os import environ\n",
      "environ.get('DJ_HOST', 'localhost')\n",
      "environ.get('DJ_USER', 'datajoint')\n",
      "environ.get('DJ_PASSW', 'datajoint')\n",
      "import datajoint as dj\n",
      "\n",
      "class Subjects(dj.Base):\n",
      "    _table_def = \"\"\"\n",
      "    Subjects (manual)     # Basic subject info\n",
      "\n",
      "    subject_id       : int      # unique subject id\n",
      "    ---\n",
      "    real_id                     :  varchar(40)    #  real-world name\n",
      "    species = \"mouse\"           : enum('mouse', 'monkey', 'human')   # species\n",
      "    \"\"\"\n"
     ],
     "language": "python",
     "metadata": {},
     "outputs": [],
     "prompt_number": 3
    }
   ],
   "metadata": {}
  }
 ]
}